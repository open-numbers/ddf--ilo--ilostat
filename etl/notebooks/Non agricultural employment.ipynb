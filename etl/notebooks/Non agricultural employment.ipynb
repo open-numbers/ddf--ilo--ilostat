{
 "cells": [
  {
   "cell_type": "markdown",
   "metadata": {},
   "source": [
    "create following indicators, which is requried by SG.\n",
    "\n",
    "- ees_mnag_noc_rt: Share of paid employment in non-agricultural employment, men (%)\n",
    "- ees_fnag_noc_rt: Share of paid employment in non-agricultural employment, women (%)\n",
    "- ees_tnag_noc_rt: Share of paid employment in non-agricultural employment (%)\n",
    "\n",
    "select Employment and then Employees by sex and economic activity,\n",
    "you just need to unselect Agriculture.  You can do the same for\n",
    "Employment by sex and economic activity.  And then it's the ratio\n",
    "of both."
   ]
  },
  {
   "cell_type": "code",
   "execution_count": 1,
   "metadata": {},
   "outputs": [],
   "source": [
    "import pandas as pd"
   ]
  },
  {
   "cell_type": "code",
   "execution_count": 59,
   "metadata": {},
   "outputs": [],
   "source": [
    "from ddf_utils.str import format_float_digits"
   ]
  },
  {
   "cell_type": "code",
   "execution_count": 2,
   "metadata": {},
   "outputs": [],
   "source": [
    "employment = pd.read_csv('../../ddf--datapoints--emp_temp_sex_eco_nb--by--ref_area--sex--classif1--time.csv')\n",
    "employees = pd.read_csv('../../ddf--datapoints--ees_tees_sex_eco_nb--by--ref_area--sex--classif1--time.csv')"
   ]
  },
  {
   "cell_type": "code",
   "execution_count": 3,
   "metadata": {},
   "outputs": [
    {
     "data": {
      "text/plain": [
       "array(['eco_aggregate_agr', 'eco_aggregate_con', 'eco_aggregate_man',\n",
       "       'eco_aggregate_mel', 'eco_aggregate_mkt', 'eco_aggregate_pub',\n",
       "       'eco_aggregate_total', 'eco_aggregate_x', 'eco_isic3_a',\n",
       "       'eco_isic3_d', 'eco_isic3_e', 'eco_isic3_f', 'eco_isic3_g',\n",
       "       'eco_isic3_h', 'eco_isic3_i', 'eco_isic3_j', 'eco_isic3_k',\n",
       "       'eco_isic3_l', 'eco_isic3_m', 'eco_isic3_n', 'eco_isic3_o',\n",
       "       'eco_isic3_p', 'eco_isic3_q', 'eco_isic3_total', 'eco_isic3_x',\n",
       "       'eco_sector_agr', 'eco_sector_ind', 'eco_sector_nag',\n",
       "       'eco_sector_ser', 'eco_sector_total', 'eco_sector_x',\n",
       "       'eco_isic3_b', 'eco_isic3_c', 'eco_isic4_a', 'eco_isic4_b',\n",
       "       'eco_isic4_c', 'eco_isic4_d', 'eco_isic4_e', 'eco_isic4_f',\n",
       "       'eco_isic4_g', 'eco_isic4_h', 'eco_isic4_i', 'eco_isic4_j',\n",
       "       'eco_isic4_k', 'eco_isic4_l', 'eco_isic4_m', 'eco_isic4_n',\n",
       "       'eco_isic4_o', 'eco_isic4_p', 'eco_isic4_q', 'eco_isic4_r',\n",
       "       'eco_isic4_s', 'eco_isic4_t', 'eco_isic4_total', 'eco_isic4_u',\n",
       "       'eco_isic4_x', 'eco_isic4_b_u', 'eco_isic2_1', 'eco_isic2_3',\n",
       "       'eco_isic2_4', 'eco_isic2_5', 'eco_isic2_6', 'eco_isic2_7',\n",
       "       'eco_isic2_8', 'eco_isic2_9', 'eco_isic2_total', 'eco_isic2_0',\n",
       "       'eco_isic2_2', 'eco_aggregate_manel'], dtype=object)"
      ]
     },
     "execution_count": 3,
     "metadata": {},
     "output_type": "execute_result"
    }
   ],
   "source": [
    "employment.classif1.unique()"
   ]
  },
  {
   "cell_type": "code",
   "execution_count": 15,
   "metadata": {},
   "outputs": [
    {
     "data": {
      "text/plain": [
       "(0, 5)"
      ]
     },
     "execution_count": 15,
     "metadata": {},
     "output_type": "execute_result"
    }
   ],
   "source": [
    "employment[employment.classif1 == 'eco_totnag_nag'].shape"
   ]
  },
  {
   "cell_type": "code",
   "execution_count": 16,
   "metadata": {},
   "outputs": [
    {
     "data": {
      "text/plain": [
       "(8118, 5)"
      ]
     },
     "execution_count": 16,
     "metadata": {},
     "output_type": "execute_result"
    }
   ],
   "source": [
    "employment[employment.classif1 == 'eco_sector_nag'].shape"
   ]
  },
  {
   "cell_type": "code",
   "execution_count": 17,
   "metadata": {},
   "outputs": [
    {
     "data": {
      "text/plain": [
       "(0, 5)"
      ]
     },
     "execution_count": 17,
     "metadata": {},
     "output_type": "execute_result"
    }
   ],
   "source": [
    "employees[employees.classif1 == 'eco_totnag_nag'].shape"
   ]
  },
  {
   "cell_type": "code",
   "execution_count": 18,
   "metadata": {},
   "outputs": [
    {
     "data": {
      "text/plain": [
       "(6283, 5)"
      ]
     },
     "execution_count": 18,
     "metadata": {},
     "output_type": "execute_result"
    }
   ],
   "source": [
    "employees[employees.classif1 == 'eco_sector_nag'].shape"
   ]
  },
  {
   "cell_type": "code",
   "execution_count": null,
   "metadata": {},
   "outputs": [],
   "source": []
  },
  {
   "cell_type": "code",
   "execution_count": 23,
   "metadata": {},
   "outputs": [
    {
     "data": {
      "text/html": [
       "<div>\n",
       "<style scoped>\n",
       "    .dataframe tbody tr th:only-of-type {\n",
       "        vertical-align: middle;\n",
       "    }\n",
       "\n",
       "    .dataframe tbody tr th {\n",
       "        vertical-align: top;\n",
       "    }\n",
       "\n",
       "    .dataframe thead th {\n",
       "        text-align: right;\n",
       "    }\n",
       "</style>\n",
       "<table border=\"1\" class=\"dataframe\">\n",
       "  <thead>\n",
       "    <tr style=\"text-align: right;\">\n",
       "      <th></th>\n",
       "      <th>ref_area</th>\n",
       "      <th>sex</th>\n",
       "      <th>classif1</th>\n",
       "      <th>time</th>\n",
       "      <th>emp_temp_sex_eco_nb</th>\n",
       "    </tr>\n",
       "  </thead>\n",
       "  <tbody>\n",
       "    <tr>\n",
       "      <th>107</th>\n",
       "      <td>abw</td>\n",
       "      <td>sex_f</td>\n",
       "      <td>eco_sector_nag</td>\n",
       "      <td>1994</td>\n",
       "      <td>14.930</td>\n",
       "    </tr>\n",
       "    <tr>\n",
       "      <th>108</th>\n",
       "      <td>abw</td>\n",
       "      <td>sex_f</td>\n",
       "      <td>eco_sector_nag</td>\n",
       "      <td>1997</td>\n",
       "      <td>17.966</td>\n",
       "    </tr>\n",
       "    <tr>\n",
       "      <th>109</th>\n",
       "      <td>abw</td>\n",
       "      <td>sex_f</td>\n",
       "      <td>eco_sector_nag</td>\n",
       "      <td>2007</td>\n",
       "      <td>24.302</td>\n",
       "    </tr>\n",
       "    <tr>\n",
       "      <th>110</th>\n",
       "      <td>abw</td>\n",
       "      <td>sex_f</td>\n",
       "      <td>eco_sector_nag</td>\n",
       "      <td>2011</td>\n",
       "      <td>23.424</td>\n",
       "    </tr>\n",
       "    <tr>\n",
       "      <th>231</th>\n",
       "      <td>abw</td>\n",
       "      <td>sex_m</td>\n",
       "      <td>eco_sector_nag</td>\n",
       "      <td>1994</td>\n",
       "      <td>20.980</td>\n",
       "    </tr>\n",
       "    <tr>\n",
       "      <th>232</th>\n",
       "      <td>abw</td>\n",
       "      <td>sex_m</td>\n",
       "      <td>eco_sector_nag</td>\n",
       "      <td>1997</td>\n",
       "      <td>23.339</td>\n",
       "    </tr>\n",
       "    <tr>\n",
       "      <th>233</th>\n",
       "      <td>abw</td>\n",
       "      <td>sex_m</td>\n",
       "      <td>eco_sector_nag</td>\n",
       "      <td>2007</td>\n",
       "      <td>26.953</td>\n",
       "    </tr>\n",
       "    <tr>\n",
       "      <th>234</th>\n",
       "      <td>abw</td>\n",
       "      <td>sex_m</td>\n",
       "      <td>eco_sector_nag</td>\n",
       "      <td>2011</td>\n",
       "      <td>24.205</td>\n",
       "    </tr>\n",
       "    <tr>\n",
       "      <th>357</th>\n",
       "      <td>abw</td>\n",
       "      <td>sex_t</td>\n",
       "      <td>eco_sector_nag</td>\n",
       "      <td>1994</td>\n",
       "      <td>35.900</td>\n",
       "    </tr>\n",
       "    <tr>\n",
       "      <th>358</th>\n",
       "      <td>abw</td>\n",
       "      <td>sex_t</td>\n",
       "      <td>eco_sector_nag</td>\n",
       "      <td>1997</td>\n",
       "      <td>41.305</td>\n",
       "    </tr>\n",
       "  </tbody>\n",
       "</table>\n",
       "</div>"
      ],
      "text/plain": [
       "    ref_area    sex        classif1  time  emp_temp_sex_eco_nb\n",
       "107      abw  sex_f  eco_sector_nag  1994               14.930\n",
       "108      abw  sex_f  eco_sector_nag  1997               17.966\n",
       "109      abw  sex_f  eco_sector_nag  2007               24.302\n",
       "110      abw  sex_f  eco_sector_nag  2011               23.424\n",
       "231      abw  sex_m  eco_sector_nag  1994               20.980\n",
       "232      abw  sex_m  eco_sector_nag  1997               23.339\n",
       "233      abw  sex_m  eco_sector_nag  2007               26.953\n",
       "234      abw  sex_m  eco_sector_nag  2011               24.205\n",
       "357      abw  sex_t  eco_sector_nag  1994               35.900\n",
       "358      abw  sex_t  eco_sector_nag  1997               41.305"
      ]
     },
     "execution_count": 23,
     "metadata": {},
     "output_type": "execute_result"
    }
   ],
   "source": [
    "employment[employment.classif1 == 'eco_sector_nag'].head(10)"
   ]
  },
  {
   "cell_type": "code",
   "execution_count": 27,
   "metadata": {},
   "outputs": [
    {
     "data": {
      "text/html": [
       "<div>\n",
       "<style scoped>\n",
       "    .dataframe tbody tr th:only-of-type {\n",
       "        vertical-align: middle;\n",
       "    }\n",
       "\n",
       "    .dataframe tbody tr th {\n",
       "        vertical-align: top;\n",
       "    }\n",
       "\n",
       "    .dataframe thead th {\n",
       "        text-align: right;\n",
       "    }\n",
       "</style>\n",
       "<table border=\"1\" class=\"dataframe\">\n",
       "  <thead>\n",
       "    <tr style=\"text-align: right;\">\n",
       "      <th></th>\n",
       "      <th>ref_area</th>\n",
       "      <th>sex</th>\n",
       "      <th>classif1</th>\n",
       "      <th>time</th>\n",
       "      <th>emp_temp_sex_eco_nb</th>\n",
       "    </tr>\n",
       "  </thead>\n",
       "  <tbody>\n",
       "    <tr>\n",
       "      <th>99</th>\n",
       "      <td>abw</td>\n",
       "      <td>sex_f</td>\n",
       "      <td>eco_sector_agr</td>\n",
       "      <td>1994</td>\n",
       "      <td>0.010</td>\n",
       "    </tr>\n",
       "    <tr>\n",
       "      <th>100</th>\n",
       "      <td>abw</td>\n",
       "      <td>sex_f</td>\n",
       "      <td>eco_sector_agr</td>\n",
       "      <td>1997</td>\n",
       "      <td>0.049</td>\n",
       "    </tr>\n",
       "    <tr>\n",
       "      <th>101</th>\n",
       "      <td>abw</td>\n",
       "      <td>sex_f</td>\n",
       "      <td>eco_sector_agr</td>\n",
       "      <td>2007</td>\n",
       "      <td>0.096</td>\n",
       "    </tr>\n",
       "    <tr>\n",
       "      <th>102</th>\n",
       "      <td>abw</td>\n",
       "      <td>sex_f</td>\n",
       "      <td>eco_sector_agr</td>\n",
       "      <td>2011</td>\n",
       "      <td>0.090</td>\n",
       "    </tr>\n",
       "    <tr>\n",
       "      <th>115</th>\n",
       "      <td>abw</td>\n",
       "      <td>sex_f</td>\n",
       "      <td>eco_sector_total</td>\n",
       "      <td>1994</td>\n",
       "      <td>14.940</td>\n",
       "    </tr>\n",
       "    <tr>\n",
       "      <th>116</th>\n",
       "      <td>abw</td>\n",
       "      <td>sex_f</td>\n",
       "      <td>eco_sector_total</td>\n",
       "      <td>1997</td>\n",
       "      <td>18.015</td>\n",
       "    </tr>\n",
       "    <tr>\n",
       "      <th>117</th>\n",
       "      <td>abw</td>\n",
       "      <td>sex_f</td>\n",
       "      <td>eco_sector_total</td>\n",
       "      <td>2007</td>\n",
       "      <td>24.398</td>\n",
       "    </tr>\n",
       "    <tr>\n",
       "      <th>118</th>\n",
       "      <td>abw</td>\n",
       "      <td>sex_f</td>\n",
       "      <td>eco_sector_total</td>\n",
       "      <td>2011</td>\n",
       "      <td>23.514</td>\n",
       "    </tr>\n",
       "    <tr>\n",
       "      <th>223</th>\n",
       "      <td>abw</td>\n",
       "      <td>sex_m</td>\n",
       "      <td>eco_sector_agr</td>\n",
       "      <td>1994</td>\n",
       "      <td>0.020</td>\n",
       "    </tr>\n",
       "    <tr>\n",
       "      <th>224</th>\n",
       "      <td>abw</td>\n",
       "      <td>sex_m</td>\n",
       "      <td>eco_sector_agr</td>\n",
       "      <td>1997</td>\n",
       "      <td>0.147</td>\n",
       "    </tr>\n",
       "    <tr>\n",
       "      <th>225</th>\n",
       "      <td>abw</td>\n",
       "      <td>sex_m</td>\n",
       "      <td>eco_sector_agr</td>\n",
       "      <td>2007</td>\n",
       "      <td>0.256</td>\n",
       "    </tr>\n",
       "    <tr>\n",
       "      <th>226</th>\n",
       "      <td>abw</td>\n",
       "      <td>sex_m</td>\n",
       "      <td>eco_sector_agr</td>\n",
       "      <td>2011</td>\n",
       "      <td>0.196</td>\n",
       "    </tr>\n",
       "    <tr>\n",
       "      <th>239</th>\n",
       "      <td>abw</td>\n",
       "      <td>sex_m</td>\n",
       "      <td>eco_sector_total</td>\n",
       "      <td>1994</td>\n",
       "      <td>21.000</td>\n",
       "    </tr>\n",
       "    <tr>\n",
       "      <th>240</th>\n",
       "      <td>abw</td>\n",
       "      <td>sex_m</td>\n",
       "      <td>eco_sector_total</td>\n",
       "      <td>1997</td>\n",
       "      <td>23.486</td>\n",
       "    </tr>\n",
       "    <tr>\n",
       "      <th>241</th>\n",
       "      <td>abw</td>\n",
       "      <td>sex_m</td>\n",
       "      <td>eco_sector_total</td>\n",
       "      <td>2007</td>\n",
       "      <td>27.209</td>\n",
       "    </tr>\n",
       "    <tr>\n",
       "      <th>242</th>\n",
       "      <td>abw</td>\n",
       "      <td>sex_m</td>\n",
       "      <td>eco_sector_total</td>\n",
       "      <td>2011</td>\n",
       "      <td>24.401</td>\n",
       "    </tr>\n",
       "    <tr>\n",
       "      <th>349</th>\n",
       "      <td>abw</td>\n",
       "      <td>sex_t</td>\n",
       "      <td>eco_sector_agr</td>\n",
       "      <td>1994</td>\n",
       "      <td>0.040</td>\n",
       "    </tr>\n",
       "    <tr>\n",
       "      <th>350</th>\n",
       "      <td>abw</td>\n",
       "      <td>sex_t</td>\n",
       "      <td>eco_sector_agr</td>\n",
       "      <td>1997</td>\n",
       "      <td>0.196</td>\n",
       "    </tr>\n",
       "    <tr>\n",
       "      <th>351</th>\n",
       "      <td>abw</td>\n",
       "      <td>sex_t</td>\n",
       "      <td>eco_sector_agr</td>\n",
       "      <td>2007</td>\n",
       "      <td>0.352</td>\n",
       "    </tr>\n",
       "    <tr>\n",
       "      <th>352</th>\n",
       "      <td>abw</td>\n",
       "      <td>sex_t</td>\n",
       "      <td>eco_sector_agr</td>\n",
       "      <td>2011</td>\n",
       "      <td>0.286</td>\n",
       "    </tr>\n",
       "    <tr>\n",
       "      <th>365</th>\n",
       "      <td>abw</td>\n",
       "      <td>sex_t</td>\n",
       "      <td>eco_sector_total</td>\n",
       "      <td>1994</td>\n",
       "      <td>35.940</td>\n",
       "    </tr>\n",
       "    <tr>\n",
       "      <th>366</th>\n",
       "      <td>abw</td>\n",
       "      <td>sex_t</td>\n",
       "      <td>eco_sector_total</td>\n",
       "      <td>1997</td>\n",
       "      <td>41.501</td>\n",
       "    </tr>\n",
       "    <tr>\n",
       "      <th>367</th>\n",
       "      <td>abw</td>\n",
       "      <td>sex_t</td>\n",
       "      <td>eco_sector_total</td>\n",
       "      <td>2007</td>\n",
       "      <td>51.607</td>\n",
       "    </tr>\n",
       "    <tr>\n",
       "      <th>368</th>\n",
       "      <td>abw</td>\n",
       "      <td>sex_t</td>\n",
       "      <td>eco_sector_total</td>\n",
       "      <td>2011</td>\n",
       "      <td>47.915</td>\n",
       "    </tr>\n",
       "    <tr>\n",
       "      <th>388</th>\n",
       "      <td>afg</td>\n",
       "      <td>sex_f</td>\n",
       "      <td>eco_sector_agr</td>\n",
       "      <td>2008</td>\n",
       "      <td>1950.196</td>\n",
       "    </tr>\n",
       "    <tr>\n",
       "      <th>389</th>\n",
       "      <td>afg</td>\n",
       "      <td>sex_f</td>\n",
       "      <td>eco_sector_agr</td>\n",
       "      <td>2012</td>\n",
       "      <td>565.217</td>\n",
       "    </tr>\n",
       "    <tr>\n",
       "      <th>396</th>\n",
       "      <td>afg</td>\n",
       "      <td>sex_f</td>\n",
       "      <td>eco_sector_total</td>\n",
       "      <td>2008</td>\n",
       "      <td>2551.157</td>\n",
       "    </tr>\n",
       "    <tr>\n",
       "      <th>397</th>\n",
       "      <td>afg</td>\n",
       "      <td>sex_f</td>\n",
       "      <td>eco_sector_total</td>\n",
       "      <td>2012</td>\n",
       "      <td>1061.452</td>\n",
       "    </tr>\n",
       "    <tr>\n",
       "      <th>415</th>\n",
       "      <td>afg</td>\n",
       "      <td>sex_m</td>\n",
       "      <td>eco_sector_agr</td>\n",
       "      <td>2008</td>\n",
       "      <td>2476.535</td>\n",
       "    </tr>\n",
       "    <tr>\n",
       "      <th>416</th>\n",
       "      <td>afg</td>\n",
       "      <td>sex_m</td>\n",
       "      <td>eco_sector_agr</td>\n",
       "      <td>2012</td>\n",
       "      <td>1911.862</td>\n",
       "    </tr>\n",
       "  </tbody>\n",
       "</table>\n",
       "</div>"
      ],
      "text/plain": [
       "    ref_area    sex          classif1  time  emp_temp_sex_eco_nb\n",
       "99       abw  sex_f    eco_sector_agr  1994                0.010\n",
       "100      abw  sex_f    eco_sector_agr  1997                0.049\n",
       "101      abw  sex_f    eco_sector_agr  2007                0.096\n",
       "102      abw  sex_f    eco_sector_agr  2011                0.090\n",
       "115      abw  sex_f  eco_sector_total  1994               14.940\n",
       "116      abw  sex_f  eco_sector_total  1997               18.015\n",
       "117      abw  sex_f  eco_sector_total  2007               24.398\n",
       "118      abw  sex_f  eco_sector_total  2011               23.514\n",
       "223      abw  sex_m    eco_sector_agr  1994                0.020\n",
       "224      abw  sex_m    eco_sector_agr  1997                0.147\n",
       "225      abw  sex_m    eco_sector_agr  2007                0.256\n",
       "226      abw  sex_m    eco_sector_agr  2011                0.196\n",
       "239      abw  sex_m  eco_sector_total  1994               21.000\n",
       "240      abw  sex_m  eco_sector_total  1997               23.486\n",
       "241      abw  sex_m  eco_sector_total  2007               27.209\n",
       "242      abw  sex_m  eco_sector_total  2011               24.401\n",
       "349      abw  sex_t    eco_sector_agr  1994                0.040\n",
       "350      abw  sex_t    eco_sector_agr  1997                0.196\n",
       "351      abw  sex_t    eco_sector_agr  2007                0.352\n",
       "352      abw  sex_t    eco_sector_agr  2011                0.286\n",
       "365      abw  sex_t  eco_sector_total  1994               35.940\n",
       "366      abw  sex_t  eco_sector_total  1997               41.501\n",
       "367      abw  sex_t  eco_sector_total  2007               51.607\n",
       "368      abw  sex_t  eco_sector_total  2011               47.915\n",
       "388      afg  sex_f    eco_sector_agr  2008             1950.196\n",
       "389      afg  sex_f    eco_sector_agr  2012              565.217\n",
       "396      afg  sex_f  eco_sector_total  2008             2551.157\n",
       "397      afg  sex_f  eco_sector_total  2012             1061.452\n",
       "415      afg  sex_m    eco_sector_agr  2008             2476.535\n",
       "416      afg  sex_m    eco_sector_agr  2012             1911.862"
      ]
     },
     "execution_count": 27,
     "metadata": {},
     "output_type": "execute_result"
    }
   ],
   "source": [
    "# check if eco_sector_total - eco_sector_agr == eco_sector_nag\n",
    "\n",
    "employment[employment.classif1.isin(['eco_sector_total', 'eco_sector_agr'])].head(30)"
   ]
  },
  {
   "cell_type": "code",
   "execution_count": 30,
   "metadata": {},
   "outputs": [
    {
     "data": {
      "text/plain": [
       "(8914, 5)"
      ]
     },
     "execution_count": 30,
     "metadata": {},
     "output_type": "execute_result"
    }
   ],
   "source": [
    "employment[employment.classif1.isin(['eco_sector_total'])].shape"
   ]
  },
  {
   "cell_type": "code",
   "execution_count": 31,
   "metadata": {},
   "outputs": [
    {
     "data": {
      "text/plain": [
       "(8167, 5)"
      ]
     },
     "execution_count": 31,
     "metadata": {},
     "output_type": "execute_result"
    }
   ],
   "source": [
    "employment[employment.classif1.isin(['eco_sector_agr'])].shape"
   ]
  },
  {
   "cell_type": "code",
   "execution_count": 32,
   "metadata": {},
   "outputs": [
    {
     "data": {
      "text/plain": [
       "(8118, 5)"
      ]
     },
     "execution_count": 32,
     "metadata": {},
     "output_type": "execute_result"
    }
   ],
   "source": [
    "employment[employment.classif1.isin(['eco_sector_nag'])].shape"
   ]
  },
  {
   "cell_type": "code",
   "execution_count": null,
   "metadata": {},
   "outputs": [],
   "source": []
  },
  {
   "cell_type": "code",
   "execution_count": 19,
   "metadata": {},
   "outputs": [],
   "source": [
    "# eco_sector_nag seems to be good to use"
   ]
  },
  {
   "cell_type": "code",
   "execution_count": null,
   "metadata": {},
   "outputs": [],
   "source": []
  },
  {
   "cell_type": "code",
   "execution_count": 34,
   "metadata": {},
   "outputs": [],
   "source": [
    "emp = employment[employment.classif1.isin(['eco_sector_nag'])].drop('classif1', axis=1)"
   ]
  },
  {
   "cell_type": "code",
   "execution_count": 35,
   "metadata": {},
   "outputs": [],
   "source": [
    "empee = employees[employees.classif1.isin(['eco_sector_nag'])].drop('classif1', axis=1)"
   ]
  },
  {
   "cell_type": "code",
   "execution_count": 37,
   "metadata": {},
   "outputs": [],
   "source": [
    "emp = emp.set_index(['ref_area', 'sex', 'time'])['emp_temp_sex_eco_nb']"
   ]
  },
  {
   "cell_type": "code",
   "execution_count": 39,
   "metadata": {},
   "outputs": [],
   "source": [
    "empee = empee.set_index(['ref_area', 'sex', 'time'])['ees_tees_sex_eco_nb']"
   ]
  },
  {
   "cell_type": "code",
   "execution_count": 41,
   "metadata": {},
   "outputs": [],
   "source": [
    "emp1, empee1 = emp.align(empee)"
   ]
  },
  {
   "cell_type": "code",
   "execution_count": 42,
   "metadata": {},
   "outputs": [
    {
     "data": {
      "text/plain": [
       "(9084,)"
      ]
     },
     "execution_count": 42,
     "metadata": {},
     "output_type": "execute_result"
    }
   ],
   "source": [
    "emp1.shape"
   ]
  },
  {
   "cell_type": "code",
   "execution_count": 43,
   "metadata": {},
   "outputs": [
    {
     "data": {
      "text/plain": [
       "(9084,)"
      ]
     },
     "execution_count": 43,
     "metadata": {},
     "output_type": "execute_result"
    }
   ],
   "source": [
    "empee1.shape"
   ]
  },
  {
   "cell_type": "code",
   "execution_count": 46,
   "metadata": {},
   "outputs": [],
   "source": [
    "res = empee1 / emp1 * 100"
   ]
  },
  {
   "cell_type": "code",
   "execution_count": 48,
   "metadata": {},
   "outputs": [
    {
     "data": {
      "text/plain": [
       "(5317,)"
      ]
     },
     "execution_count": 48,
     "metadata": {},
     "output_type": "execute_result"
    }
   ],
   "source": [
    "res.dropna().shape"
   ]
  },
  {
   "cell_type": "code",
   "execution_count": 50,
   "metadata": {},
   "outputs": [],
   "source": [
    "res = res.dropna().reset_index()"
   ]
  },
  {
   "cell_type": "code",
   "execution_count": 52,
   "metadata": {},
   "outputs": [],
   "source": [
    "m = res[res.sex == 'sex_m'].drop('sex', axis=1)"
   ]
  },
  {
   "cell_type": "code",
   "execution_count": 54,
   "metadata": {},
   "outputs": [],
   "source": [
    "m.columns = ['ref_area', 'time', 'ees_mnag_noc_rt']"
   ]
  },
  {
   "cell_type": "code",
   "execution_count": 56,
   "metadata": {},
   "outputs": [],
   "source": [
    "t = res[res.sex == 'sex_m'].drop('sex', axis=1)\n",
    "t.columns = ['ref_area', 'time', 'ees_tnag_noc_rt']"
   ]
  },
  {
   "cell_type": "code",
   "execution_count": 57,
   "metadata": {},
   "outputs": [],
   "source": [
    "f = res[res.sex == 'sex_m'].drop('sex', axis=1)\n",
    "f.columns = ['ref_area', 'time', 'ees_fnag_noc_rt']"
   ]
  },
  {
   "cell_type": "code",
   "execution_count": 60,
   "metadata": {},
   "outputs": [],
   "source": [
    "m['ees_mnag_noc_rt'] = m['ees_mnag_noc_rt'].map(format_float_digits)"
   ]
  },
  {
   "cell_type": "code",
   "execution_count": 62,
   "metadata": {},
   "outputs": [],
   "source": [
    "f['ees_fnag_noc_rt'] = f['ees_fnag_noc_rt'].map(format_float_digits)"
   ]
  },
  {
   "cell_type": "code",
   "execution_count": 63,
   "metadata": {},
   "outputs": [],
   "source": [
    "t['ees_tnag_noc_rt'] = t['ees_tnag_noc_rt'].map(format_float_digits)"
   ]
  },
  {
   "cell_type": "code",
   "execution_count": 64,
   "metadata": {},
   "outputs": [],
   "source": [
    "m.to_csv('../../ddf--datapoints--ees_mnag_noc_rt--by--ref_area--time.csv', index=False)"
   ]
  },
  {
   "cell_type": "code",
   "execution_count": 65,
   "metadata": {},
   "outputs": [],
   "source": [
    "f.to_csv('../../ddf--datapoints--ees_fnag_noc_rt--by--ref_area--time.csv', index=False)"
   ]
  },
  {
   "cell_type": "code",
   "execution_count": 66,
   "metadata": {},
   "outputs": [],
   "source": [
    "t.to_csv('../../ddf--datapoints--ees_tnag_noc_rt--by--ref_area--time.csv', index=False)"
   ]
  },
  {
   "cell_type": "code",
   "execution_count": null,
   "metadata": {},
   "outputs": [],
   "source": []
  }
 ],
 "metadata": {
  "kernelspec": {
   "display_name": "Python 3",
   "language": "python",
   "name": "python3"
  },
  "language_info": {
   "codemirror_mode": {
    "name": "ipython",
    "version": 3
   },
   "file_extension": ".py",
   "mimetype": "text/x-python",
   "name": "python",
   "nbconvert_exporter": "python",
   "pygments_lexer": "ipython3",
   "version": "3.6.5"
  }
 },
 "nbformat": 4,
 "nbformat_minor": 2
}
